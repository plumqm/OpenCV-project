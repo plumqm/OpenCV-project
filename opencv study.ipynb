{
 "cells": [
  {
   "cell_type": "code",
   "execution_count": 2,
   "metadata": {},
   "outputs": [],
   "source": [
    "import cv2\n",
    "import os\n",
    "image = cv2.imread('D:\\system\\desktop\\Web\\webprojects\\chiikawa-webproject\\images\\hachiware1.jpg')\n",
    "\n",
    "image = cv2.resize(image, (500,500))\n",
    "lower_red = (0,50,50)\n",
    "upper_red = (10,255,255)\n",
    "\n",
    "mask = cv2.inRange(image, lower_red ,upper_red)\n",
    "\n",
    "cv2.imshow('Image' , mask)\n",
    "cv2.waitKey(0)\n",
    "cv2.destroyAllWindows()"
   ]
  },
  {
   "cell_type": "code",
   "execution_count": 9,
   "metadata": {},
   "outputs": [],
   "source": [
    "import cv2\n",
    "import os\n",
    "image = cv2.imread('D:\\system\\desktop\\Web\\webprojects\\chiikawa-webproject\\images\\hachiware1.jpg')\n",
    "image = cv2.resize(image ,(500,500))\n",
    "\n",
    "cv2.imshow('blue' , image[: ,: , 0])\n",
    "\n",
    "cv2.imshow('red' , image[: ,: , 1])\n",
    "\n",
    "cv2.imshow('green' , image[: ,: , 2])\n",
    "\n",
    "gray = cv2.cvtColor(image , cv2.COLOR_BGR2GRAY)\n",
    "cv2.imshow('gray' , gray)\n",
    "cv2.waitKey(0)\n",
    "cv2.destroyAllWindows()"
   ]
  },
  {
   "cell_type": "code",
   "execution_count": 15,
   "metadata": {},
   "outputs": [],
   "source": [
    "import cv2\n",
    "import numpy as np\n",
    "\n",
    "image = np.zeros([300 , 300, 3],dtype = np.uint8)\n",
    "\n",
    "cv2.line(image, (100, 200), (250, 250), (255, 0, 0),2)\n",
    "cv2.rectangle(image, (30, 100), (60, 150), (0, 255, 0), 2)\n",
    "cv2.circle(image ,(150, 100), 20 ,(0, 0 , 205), 3)\n",
    "cv2.putText(image, \"hello\" ,(100,50) ,0,1,(255,255,255),2,1 )\n",
    "\n",
    "cv2.imshow('Image' , image)\n",
    "cv2.waitKey(0)\n",
    "cv2.destroyAllWindows()"
   ]
  },
  {
   "cell_type": "code",
   "execution_count": 21,
   "metadata": {},
   "outputs": [],
   "source": [
    "import cv2\n",
    "\n",
    "image = cv2.imread('D:\\system\\desktop\\plane.jpg')\n",
    "\n",
    "gauss = cv2.GaussianBlur(image, (5,5) ,0)\n",
    "\n",
    "cv2.imshow('Image' , gauss)\n",
    "cv2.waitKey(0)\n",
    "cv2.destroyAllWindows()"
   ]
  },
  {
   "cell_type": "code",
   "execution_count": 25,
   "metadata": {},
   "outputs": [],
   "source": [
    "import cv2\n",
    "\n",
    "image = cv2.imread('D:\\system\\desktop\\opencv_logo.jpg')\n",
    "gray = cv2.cvtColor(image , cv2.COLOR_BGR2GRAY)\n",
    "\n",
    "corners = cv2.goodFeaturesToTrack(gray ,500 ,0.1 ,10)\n",
    "\n",
    "for corner in corners:\n",
    "    x, y=corner.ravel()\n",
    "    cv2.circle(image , (int(x), int(y)), 3,(255, 0, 255), -1)\n",
    "\n",
    "cv2.imshow(\"corners\",image)\n",
    "cv2.waitKey(0)\n",
    "cv2.destroyAllWindows()"
   ]
  },
  {
   "cell_type": "code",
   "execution_count": 30,
   "metadata": {},
   "outputs": [
    {
     "data": {
      "text/plain": [
       "-1"
      ]
     },
     "execution_count": 30,
     "metadata": {},
     "output_type": "execute_result"
    }
   ],
   "source": [
    "import cv2\n",
    "import numpy as np\n",
    "\n",
    "image = cv2.imread('D:\\system\\desktop\\poker.jpg')\n",
    "gray = cv2.cvtColor(image , cv2.COLOR_BGR2GRAY)\n",
    "\n",
    "template = gray[75:105, 235:256]\n",
    "\n",
    "# TM_CCOEFF_NORMED 标准相关匹配算法\n",
    "# 将待检测图像和模板都各自标准化再计算匹配度，使其不受光照影响\n",
    "match = cv2.matchTemplate(gray ,template,cv2.TM_CCOEFF_NORMED)\n",
    "locations = np.where(match >= 0.9)\n",
    "\n",
    "w,h = template.shape[0:2]\n",
    "\n",
    "for p in zip(*locations[::-1]):  # 循环遍历每一个匹配点并画出矩形框标记\n",
    "    x1, y1 = p[0], p[1]\n",
    "    x2, y2 = x1 + w, y1 + h\n",
    "    cv2.rectangle(image, (x1, y1), (x2, y2), (0, 255, 0), 2)\n",
    "\n",
    "cv2.imshow(\"image\", image)\n",
    "cv2.waitKey()"
   ]
  },
  {
   "cell_type": "code",
   "execution_count": null,
   "metadata": {},
   "outputs": [],
   "source": []
  }
 ],
 "metadata": {
  "kernelspec": {
   "display_name": "pytorch-gpu",
   "language": "python",
   "name": "python3"
  },
  "language_info": {
   "codemirror_mode": {
    "name": "ipython",
    "version": 3
   },
   "file_extension": ".py",
   "mimetype": "text/x-python",
   "name": "python",
   "nbconvert_exporter": "python",
   "pygments_lexer": "ipython3",
   "version": "3.9.19"
  }
 },
 "nbformat": 4,
 "nbformat_minor": 2
}
