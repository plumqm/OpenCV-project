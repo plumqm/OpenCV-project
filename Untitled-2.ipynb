{
 "cells": [
  {
   "cell_type": "code",
   "execution_count": 4,
   "metadata": {},
   "outputs": [],
   "source": [
    "import numpy as np\n",
    "from sklearn.datasets import fetch_openml\n",
    "\n",
    "#点乘，速度比numpy库的快\n",
    "from sklearn.utils.extmath import safe_sparse_dot \n",
    "\n",
    "# Python 实现神经网络完成手写数字识别任务\n",
    "# 激活函数是relu，输出层是softmax分类"
   ]
  },
  {
   "cell_type": "code",
   "execution_count": 13,
   "metadata": {},
   "outputs": [
    {
     "name": "stdout",
     "output_type": "stream",
     "text": [
      "[[0. 0. 0. ... 0. 0. 0.]\n",
      " [1. 0. 0. ... 0. 0. 0.]\n",
      " [0. 0. 0. ... 0. 0. 0.]\n",
      " ...\n",
      " [0. 0. 0. ... 0. 0. 0.]\n",
      " [0. 0. 0. ... 0. 0. 0.]\n",
      " [0. 0. 0. ... 0. 0. 0.]]\n"
     ]
    }
   ],
   "source": [
    "# 将目标数字0-9转成One-Hot编码\n",
    "def tran_y(y_true):\n",
    "    y_ohe = np.zeros(10)\n",
    "    y_ohe[int(y_true)] = 1\n",
    "    return y_ohe\n",
    "\n",
    "mnist = fetch_openml('mnist_784')\n",
    "\n",
    "X,y = mnist[\"data\"],mnist[\"target\"]\n",
    "\n",
    "y = np.array([tran_y(i) for i in y])"
   ]
  },
  {
   "cell_type": "code",
   "execution_count": 14,
   "metadata": {},
   "outputs": [],
   "source": [
    "# 两个隐藏层，第一层300个节点，第二层100\n",
    "hidden_layer_sizes = [300,100]\n",
    "# 最大迭代次数\n",
    "max_iter = 200\n",
    "# 正则项系数\n",
    "alpha = 0.0001\n",
    "learning_rate = 0.001"
   ]
  },
  {
   "cell_type": "code",
   "execution_count": 15,
   "metadata": {},
   "outputs": [],
   "source": [
    "def log_loss(y_true, y_prob):\n",
    "    \n",
    "    y_prob = np.clip(y_prob, 1e-10, 1-1e-10)\n",
    "    if y_prob.shape[1]==1:\n",
    "        y_prob = np.append(1-y_prob, y_prob, axis=1)\n",
    "\n",
    "    if y_true.shape[1]==1:\n",
    "        y_true = np.append(1-y_true, y_true, axis=1)\n",
    "    return -np.sum(y_true * np.log(y_prob)) / y_prob.shape[0]"
   ]
  },
  {
   "cell_type": "code",
   "execution_count": 16,
   "metadata": {},
   "outputs": [],
   "source": [
    "def softmax(x):\n",
    "    tmp = x - x.max(axis=1)[:, np.newaxis]\n",
    "    np.exp(tmp, out=x)\n",
    "    x /= x.sum(axis=1)[:, np.newaxis]\n",
    "\n",
    "    return x"
   ]
  },
  {
   "cell_type": "code",
   "execution_count": 17,
   "metadata": {},
   "outputs": [],
   "source": [
    "def relu(x):\n",
    "    # RELU(x) = max(0,x)\n",
    "    np.clip(x,0,np.finfo(x.dtype).max,out=x)\n",
    "    return x"
   ]
  },
  {
   "cell_type": "code",
   "execution_count": 23,
   "metadata": {},
   "outputs": [
    {
     "name": "stdout",
     "output_type": "stream",
     "text": [
      "1\n",
      "[1, 0]\n"
     ]
    }
   ],
   "source": [
    "def relu_derivative(z,delta):\n",
    "    # 实现relu的导数\n",
    "    delta[z==0] = 0"
   ]
  },
  {
   "cell_type": "code",
   "execution_count": 25,
   "metadata": {},
   "outputs": [],
   "source": [
    "def gen_batches(n, bs):\n",
    "    \"\"\"\n",
    "    产生一个样本批次的样本数据的索引\n",
    "    :param n：样本总数\n",
    "    :param bs：批次大小\n",
    "    :return：批次的索引\n",
    "    \"\"\"\n",
    "    start = 0\n",
    "    for _ in range(int(n // bs)):\n",
    "        end = start + bs\n",
    "        yield slice(start,end)\n",
    "        start = end\n",
    "    if start < n:\n",
    "        yield slice(start, n)\n"
   ]
  },
  {
   "cell_type": "code",
   "execution_count": 27,
   "metadata": {},
   "outputs": [],
   "source": [
    "n_samples, n_features = X.shape\n",
    "n_outputs = y.shape[1]\n",
    "\n",
    "batch_size = min(200, n_samples)\n",
    "layer_units = ([n_features] + hidden_layer_sizes + [n_outputs])\n",
    "n_layers = len(layer_units)\n",
    "\n",
    "# 初始化w和b\n",
    "coefs_ = [] # weights\n",
    "intercepts_ = [] #bias\n",
    "\n",
    "for i in range(n_layers-1):\n",
    "    fan_in = layer_units[i]\n",
    "    fan_out = layer_units[i+1]\n",
    "    factor = 6.\n",
    "    init_bound = np.sqrt(factor / (fan_in + fan_out))\n",
    "    coef_init = np.random.uniform(-init_bound, init_bound, (fan_in, fan_out))\n",
    "    intercept_init = np.random.uniform(-init_bound, init_bound, fan_out)\n",
    "    coefs_.append(coef_init)\n",
    "    intercepts_.append(intercept_init)\n"
   ]
  },
  {
   "cell_type": "code",
   "execution_count": null,
   "metadata": {},
   "outputs": [],
   "source": []
  }
 ],
 "metadata": {
  "kernelspec": {
   "display_name": "tf2x",
   "language": "python",
   "name": "python3"
  },
  "language_info": {
   "codemirror_mode": {
    "name": "ipython",
    "version": 3
   },
   "file_extension": ".py",
   "mimetype": "text/x-python",
   "name": "python",
   "nbconvert_exporter": "python",
   "pygments_lexer": "ipython3",
   "version": "3.9.19"
  }
 },
 "nbformat": 4,
 "nbformat_minor": 2
}
